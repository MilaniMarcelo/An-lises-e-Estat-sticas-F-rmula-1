{
 "cells": [
  {
   "cell_type": "markdown",
   "id": "1630fdf1",
   "metadata": {},
   "source": [
    "# Probabilidade de vitória no Grande Prêmio de Mônaco de Fórmula 1 via utilização de Regressão Logística"
   ]
  },
  {
   "cell_type": "markdown",
   "id": "fbee0b3d",
   "metadata": {},
   "source": [
    "<b>OBJETIVO: Calcular as probabilidades de vitória no GP de Mônaco com base na posição de largada no grid."
   ]
  },
  {
   "cell_type": "markdown",
   "id": "2d075a67",
   "metadata": {},
   "source": [
    "<b>Estrutura do Estudo:\n",
    "- Tópico 1: Premissas adotadas\n",
    "- Tópico 2: Bibliotecas e Inputs necessários\n",
    "- Tópico 3: Análise exploratória dos dados\n",
    "- Tópico 4: Cálculo das probabilidades de vitória no GP de Mônaco"
   ]
  },
  {
   "cell_type": "markdown",
   "id": "9dec10a7",
   "metadata": {},
   "source": [
    "# Tópico 1: Premissas adotadas"
   ]
  },
  {
   "cell_type": "markdown",
   "id": "34e082bd",
   "metadata": {},
   "source": [
    "- Linguagem de programação utilizada: <b>Python.</b>\n",
    "- Os dados utilizados são de uma base proprietária que vem sendo criada a partir do site: <b>https://www.statsf1.com/pt/default.aspx</b>\n",
    "- Os dados utilizados compreendem as corridas realizadas do ano de <b>2000 a 2021.</b>"
   ]
  },
  {
   "cell_type": "markdown",
   "id": "c5426bb1",
   "metadata": {},
   "source": [
    "# Tópico 2: Bibliotecas + Inputs"
   ]
  },
  {
   "cell_type": "code",
   "execution_count": 1,
   "id": "116db667",
   "metadata": {},
   "outputs": [],
   "source": [
    "#Biblioteca para análise e manipulação de dados\n",
    "import pandas as pd\n",
    "#Biblioteca para criar gráficos\n",
    "import matplotlib.pyplot as plt\n",
    "#Biblioteca para realizar cálculos matemáticos\n",
    "import numpy as np\n",
    "#Bibliotecas para trabalhar com análises e modelos estatísticos\n",
    "import statsmodels.api as sm\n",
    "import statsmodels.formula.api as smf\n",
    "from sklearn.linear_model import LogisticRegression\n",
    "from sklearn.metrics import roc_auc_score, roc_curve, classification_report, accuracy_score, confusion_matrix, auc"
   ]
  },
  {
   "cell_type": "code",
   "execution_count": 2,
   "id": "58e41f54",
   "metadata": {},
   "outputs": [],
   "source": [
    "Pasta_Base = r\"C:\\Users\\momil\\OneDrive\\Gestão - Marcelo Milani\\Projetos Hobbies\\2. Análises e Estatísticas Fórmula 1\\202205_R. Logística para predição de vitória GP Mônaco\\Base de Dados.xlsx\"\n",
    "#Importar base com os resultados do Grande Prêmio de Mônaco\n",
    "df_ResultadosGP = pd.read_excel(Pasta_Base, sheet_name=\"Tab_Resultados_GP\")\n",
    "#Importar base com as quebras e acidentes do GP de Mônaco\n",
    "df_Quebras_Acidentes = pd.read_excel(Pasta_Base, sheet_name=\"Quebras_Acidentes\")\n",
    "#Importar base com os dados para a modelagem\n",
    "df_Dados_Modelagem = pd.read_excel(Pasta_Base, sheet_name=\"Dados_Modelagem\")"
   ]
  },
  {
   "cell_type": "code",
   "execution_count": 3,
   "id": "14be30d3",
   "metadata": {},
   "outputs": [
    {
     "data": {
      "text/html": [
       "<div>\n",
       "<style scoped>\n",
       "    .dataframe tbody tr th:only-of-type {\n",
       "        vertical-align: middle;\n",
       "    }\n",
       "\n",
       "    .dataframe tbody tr th {\n",
       "        vertical-align: top;\n",
       "    }\n",
       "\n",
       "    .dataframe thead th {\n",
       "        text-align: right;\n",
       "    }\n",
       "</style>\n",
       "<table border=\"1\" class=\"dataframe\">\n",
       "  <thead>\n",
       "    <tr style=\"text-align: right;\">\n",
       "      <th></th>\n",
       "      <th>Código</th>\n",
       "      <th>Circuito</th>\n",
       "      <th>Ano</th>\n",
       "      <th>Piloto</th>\n",
       "      <th>Qualificacao</th>\n",
       "      <th>Finalizou?</th>\n",
       "      <th>Classificacao</th>\n",
       "    </tr>\n",
       "  </thead>\n",
       "  <tbody>\n",
       "    <tr>\n",
       "      <th>0</th>\n",
       "      <td>1</td>\n",
       "      <td>Monaco</td>\n",
       "      <td>2000</td>\n",
       "      <td>Michael SCHUMACHER</td>\n",
       "      <td>1</td>\n",
       "      <td>Não</td>\n",
       "      <td>0</td>\n",
       "    </tr>\n",
       "    <tr>\n",
       "      <th>1</th>\n",
       "      <td>2</td>\n",
       "      <td>Monaco</td>\n",
       "      <td>2000</td>\n",
       "      <td>Jarno TRULLI</td>\n",
       "      <td>2</td>\n",
       "      <td>Não</td>\n",
       "      <td>0</td>\n",
       "    </tr>\n",
       "    <tr>\n",
       "      <th>2</th>\n",
       "      <td>3</td>\n",
       "      <td>Monaco</td>\n",
       "      <td>2000</td>\n",
       "      <td>David COULTHARD</td>\n",
       "      <td>3</td>\n",
       "      <td>Sim</td>\n",
       "      <td>1</td>\n",
       "    </tr>\n",
       "    <tr>\n",
       "      <th>3</th>\n",
       "      <td>4</td>\n",
       "      <td>Monaco</td>\n",
       "      <td>2000</td>\n",
       "      <td>Heinz-Harald FRENTZEN</td>\n",
       "      <td>4</td>\n",
       "      <td>Sim</td>\n",
       "      <td>10</td>\n",
       "    </tr>\n",
       "    <tr>\n",
       "      <th>4</th>\n",
       "      <td>5</td>\n",
       "      <td>Monaco</td>\n",
       "      <td>2000</td>\n",
       "      <td>Mika HAKKINEN</td>\n",
       "      <td>5</td>\n",
       "      <td>Sim</td>\n",
       "      <td>6</td>\n",
       "    </tr>\n",
       "  </tbody>\n",
       "</table>\n",
       "</div>"
      ],
      "text/plain": [
       "   Código Circuito   Ano                 Piloto  Qualificacao Finalizou?  \\\n",
       "0       1   Monaco  2000     Michael SCHUMACHER             1        Não   \n",
       "1       2   Monaco  2000           Jarno TRULLI             2        Não   \n",
       "2       3   Monaco  2000        David COULTHARD             3        Sim   \n",
       "3       4   Monaco  2000  Heinz-Harald FRENTZEN             4        Sim   \n",
       "4       5   Monaco  2000          Mika HAKKINEN             5        Sim   \n",
       "\n",
       "   Classificacao  \n",
       "0              0  \n",
       "1              0  \n",
       "2              1  \n",
       "3             10  \n",
       "4              6  "
      ]
     },
     "execution_count": 3,
     "metadata": {},
     "output_type": "execute_result"
    }
   ],
   "source": [
    "#Exibir 5 primeiras linhas da tabela com os resultados do GP\n",
    "df_ResultadosGP.head()"
   ]
  },
  {
   "cell_type": "code",
   "execution_count": 4,
   "id": "8daf459b",
   "metadata": {},
   "outputs": [
    {
     "data": {
      "text/html": [
       "<div>\n",
       "<style scoped>\n",
       "    .dataframe tbody tr th:only-of-type {\n",
       "        vertical-align: middle;\n",
       "    }\n",
       "\n",
       "    .dataframe tbody tr th {\n",
       "        vertical-align: top;\n",
       "    }\n",
       "\n",
       "    .dataframe thead th {\n",
       "        text-align: right;\n",
       "    }\n",
       "</style>\n",
       "<table border=\"1\" class=\"dataframe\">\n",
       "  <thead>\n",
       "    <tr style=\"text-align: right;\">\n",
       "      <th></th>\n",
       "      <th>Ano</th>\n",
       "      <th>Percentual_Quebras_Acidentes_%</th>\n",
       "    </tr>\n",
       "  </thead>\n",
       "  <tbody>\n",
       "    <tr>\n",
       "      <th>0</th>\n",
       "      <td>2000</td>\n",
       "      <td>54.5</td>\n",
       "    </tr>\n",
       "    <tr>\n",
       "      <th>1</th>\n",
       "      <td>2001</td>\n",
       "      <td>54.5</td>\n",
       "    </tr>\n",
       "    <tr>\n",
       "      <th>2</th>\n",
       "      <td>2002</td>\n",
       "      <td>45.5</td>\n",
       "    </tr>\n",
       "    <tr>\n",
       "      <th>3</th>\n",
       "      <td>2003</td>\n",
       "      <td>35.0</td>\n",
       "    </tr>\n",
       "    <tr>\n",
       "      <th>4</th>\n",
       "      <td>2004</td>\n",
       "      <td>50.0</td>\n",
       "    </tr>\n",
       "  </tbody>\n",
       "</table>\n",
       "</div>"
      ],
      "text/plain": [
       "    Ano  Percentual_Quebras_Acidentes_%\n",
       "0  2000                            54.5\n",
       "1  2001                            54.5\n",
       "2  2002                            45.5\n",
       "3  2003                            35.0\n",
       "4  2004                            50.0"
      ]
     },
     "execution_count": 4,
     "metadata": {},
     "output_type": "execute_result"
    }
   ],
   "source": [
    "#Exibir 5 primeiras linhas da tabela com os % de quebras e acidentes do GP\n",
    "df_Quebras_Acidentes.head()"
   ]
  },
  {
   "cell_type": "code",
   "execution_count": 5,
   "id": "625c2cb7",
   "metadata": {},
   "outputs": [
    {
     "data": {
      "text/html": [
       "<div>\n",
       "<style scoped>\n",
       "    .dataframe tbody tr th:only-of-type {\n",
       "        vertical-align: middle;\n",
       "    }\n",
       "\n",
       "    .dataframe tbody tr th {\n",
       "        vertical-align: top;\n",
       "    }\n",
       "\n",
       "    .dataframe thead th {\n",
       "        text-align: right;\n",
       "    }\n",
       "</style>\n",
       "<table border=\"1\" class=\"dataframe\">\n",
       "  <thead>\n",
       "    <tr style=\"text-align: right;\">\n",
       "      <th></th>\n",
       "      <th>Ano</th>\n",
       "      <th>Posicao_Largada</th>\n",
       "      <th>Venceu_Corrida</th>\n",
       "    </tr>\n",
       "  </thead>\n",
       "  <tbody>\n",
       "    <tr>\n",
       "      <th>0</th>\n",
       "      <td>2005</td>\n",
       "      <td>1</td>\n",
       "      <td>1</td>\n",
       "    </tr>\n",
       "    <tr>\n",
       "      <th>1</th>\n",
       "      <td>2005</td>\n",
       "      <td>2</td>\n",
       "      <td>0</td>\n",
       "    </tr>\n",
       "    <tr>\n",
       "      <th>2</th>\n",
       "      <td>2005</td>\n",
       "      <td>3</td>\n",
       "      <td>0</td>\n",
       "    </tr>\n",
       "    <tr>\n",
       "      <th>3</th>\n",
       "      <td>2005</td>\n",
       "      <td>4</td>\n",
       "      <td>0</td>\n",
       "    </tr>\n",
       "    <tr>\n",
       "      <th>4</th>\n",
       "      <td>2005</td>\n",
       "      <td>5</td>\n",
       "      <td>0</td>\n",
       "    </tr>\n",
       "  </tbody>\n",
       "</table>\n",
       "</div>"
      ],
      "text/plain": [
       "    Ano  Posicao_Largada  Venceu_Corrida\n",
       "0  2005                1               1\n",
       "1  2005                2               0\n",
       "2  2005                3               0\n",
       "3  2005                4               0\n",
       "4  2005                5               0"
      ]
     },
     "execution_count": 5,
     "metadata": {},
     "output_type": "execute_result"
    }
   ],
   "source": [
    "#Exibir 5 primeiras linhas da tabela com os dados para modelagem\n",
    "df_Dados_Modelagem.head()"
   ]
  },
  {
   "cell_type": "markdown",
   "id": "ffe4452e",
   "metadata": {},
   "source": [
    "# Tópico 3: Análise exploratória dos dados"
   ]
  },
  {
   "cell_type": "markdown",
   "id": "8eea4418",
   "metadata": {},
   "source": [
    "<b><u>POSIÇÃO DE LARGADA DOS VENCEDORES DO GP"
   ]
  },
  {
   "cell_type": "code",
   "execution_count": 6,
   "id": "ecce5a18",
   "metadata": {},
   "outputs": [
    {
     "data": {
      "text/html": [
       "<div>\n",
       "<style scoped>\n",
       "    .dataframe tbody tr th:only-of-type {\n",
       "        vertical-align: middle;\n",
       "    }\n",
       "\n",
       "    .dataframe tbody tr th {\n",
       "        vertical-align: top;\n",
       "    }\n",
       "\n",
       "    .dataframe thead th {\n",
       "        text-align: right;\n",
       "    }\n",
       "</style>\n",
       "<table border=\"1\" class=\"dataframe\">\n",
       "  <thead>\n",
       "    <tr style=\"text-align: right;\">\n",
       "      <th></th>\n",
       "      <th>Código</th>\n",
       "      <th>Circuito</th>\n",
       "      <th>Ano</th>\n",
       "      <th>Piloto</th>\n",
       "      <th>Qualificacao</th>\n",
       "      <th>Finalizou?</th>\n",
       "      <th>Classificacao</th>\n",
       "    </tr>\n",
       "  </thead>\n",
       "  <tbody>\n",
       "    <tr>\n",
       "      <th>2</th>\n",
       "      <td>3</td>\n",
       "      <td>Monaco</td>\n",
       "      <td>2000</td>\n",
       "      <td>David COULTHARD</td>\n",
       "      <td>3</td>\n",
       "      <td>Sim</td>\n",
       "      <td>1</td>\n",
       "    </tr>\n",
       "    <tr>\n",
       "      <th>23</th>\n",
       "      <td>25</td>\n",
       "      <td>Monaco</td>\n",
       "      <td>2001</td>\n",
       "      <td>Michael SCHUMACHER</td>\n",
       "      <td>2</td>\n",
       "      <td>Sim</td>\n",
       "      <td>1</td>\n",
       "    </tr>\n",
       "    <tr>\n",
       "      <th>45</th>\n",
       "      <td>47</td>\n",
       "      <td>Monaco</td>\n",
       "      <td>2002</td>\n",
       "      <td>David COULTHARD</td>\n",
       "      <td>2</td>\n",
       "      <td>Sim</td>\n",
       "      <td>1</td>\n",
       "    </tr>\n",
       "    <tr>\n",
       "      <th>68</th>\n",
       "      <td>70</td>\n",
       "      <td>Monaco</td>\n",
       "      <td>2003</td>\n",
       "      <td>Juan-Pablo MONTOYA</td>\n",
       "      <td>3</td>\n",
       "      <td>Sim</td>\n",
       "      <td>1</td>\n",
       "    </tr>\n",
       "    <tr>\n",
       "      <th>86</th>\n",
       "      <td>88</td>\n",
       "      <td>Monaco</td>\n",
       "      <td>2004</td>\n",
       "      <td>Jarno TRULLI</td>\n",
       "      <td>1</td>\n",
       "      <td>Sim</td>\n",
       "      <td>1</td>\n",
       "    </tr>\n",
       "  </tbody>\n",
       "</table>\n",
       "</div>"
      ],
      "text/plain": [
       "    Código Circuito   Ano              Piloto  Qualificacao Finalizou?  \\\n",
       "2        3   Monaco  2000     David COULTHARD             3        Sim   \n",
       "23      25   Monaco  2001  Michael SCHUMACHER             2        Sim   \n",
       "45      47   Monaco  2002     David COULTHARD             2        Sim   \n",
       "68      70   Monaco  2003  Juan-Pablo MONTOYA             3        Sim   \n",
       "86      88   Monaco  2004        Jarno TRULLI             1        Sim   \n",
       "\n",
       "    Classificacao  \n",
       "2               1  \n",
       "23              1  \n",
       "45              1  \n",
       "68              1  \n",
       "86              1  "
      ]
     },
     "execution_count": 6,
     "metadata": {},
     "output_type": "execute_result"
    }
   ],
   "source": [
    "#Manter somente os pilotos que venceram a corrida ao longo dos anos abordados\n",
    "df_ResultadosGP.drop(df_ResultadosGP[(df_ResultadosGP[\"Classificacao\"] != 1)].index, inplace=True)\n",
    "#Exibir as 5 primeiras linhas\n",
    "df_ResultadosGP.head()"
   ]
  },
  {
   "cell_type": "code",
   "execution_count": 7,
   "id": "02512f2c",
   "metadata": {},
   "outputs": [
    {
     "data": {
      "image/png": "[encoded data removed]",
      "text/plain": [
       "<Figure size 1152x288 with 1 Axes>"
      ]
     },
     "metadata": {
      "needs_background": "light"
     },
     "output_type": "display_data"
    }
   ],
   "source": [
    "#Criar gráfico\n",
    "plt.figure(figsize=(16, 4))\n",
    "plt.scatter(df_ResultadosGP[\"Ano\"], df_ResultadosGP[\"Qualificacao\"].values, label=\"Posição de largada no Grid\", color = 'b', marker = '.', s = 500)\n",
    "#Inserir Legenda\n",
    "plt.legend()\n",
    "#Inserir Título\n",
    "plt.title(\"VENCEDORES DO GP MÔNACO\", color=\"black\", fontsize=16)\n",
    "#Títulos dos Eixos\n",
    "plt.xlabel(\"ANOS\", fontsize=12)\n",
    "plt.ylabel(\"POSIÇÃO DE LARGADA\", fontsize=14)\n",
    "#Definir escala do eixo X\n",
    "Escala_EixoX = np.arange(2000, 2022, 1) \n",
    "plt.xticks(Escala_EixoX)\n",
    "#Definir escala do eixo Y\n",
    "Escala_EixoY = np.arange(1, 11, 1) \n",
    "plt.yticks(Escala_EixoY)\n",
    "#Exibir gráfico\n",
    "plt.show()"
   ]
  },
  {
   "cell_type": "markdown",
   "id": "f54d8422",
   "metadata": {},
   "source": [
    "Observa-se que nas últimas 21 corridas o vencedor iniciou largando entre as 3 primeiras posições do grid. Para quem não está familiarizado, de forma resumida, o circuito de Mônaco é extremamente estreito e por isso, as ultrapassagens são limitadas ao longo da corrida."
   ]
  },
  {
   "cell_type": "markdown",
   "id": "3862e6d2",
   "metadata": {},
   "source": [
    "<i>*Em 2020 não houve o GP de Mônaco devido a Pandemia (COVID-19)</i>"
   ]
  },
  {
   "cell_type": "markdown",
   "id": "f5fb4c33",
   "metadata": {},
   "source": [
    "<b><u>PERCENTUAL DE CARROS QUE NÃO COMPLETAM A CORRIDA"
   ]
  },
  {
   "cell_type": "code",
   "execution_count": 8,
   "id": "097224b1",
   "metadata": {},
   "outputs": [
    {
     "data": {
      "image/png": "[encoded data removed]",
      "text/plain": [
       "<Figure size 1152x288 with 1 Axes>"
      ]
     },
     "metadata": {
      "needs_background": "light"
     },
     "output_type": "display_data"
    }
   ],
   "source": [
    "#Criar gráfico\n",
    "plt.figure(figsize=(16, 4))\n",
    "plt.bar(df_Quebras_Acidentes[\"Ano\"], df_Quebras_Acidentes[\"Percentual_Quebras_Acidentes_%\"].values, label=\"% Quebras/Acidentes\", color=\"grey\")\n",
    "#Inserir Legenda\n",
    "plt.legend()\n",
    "#Inserir Título\n",
    "plt.title(\"PERCENTUAL DE QUEBRAS E ACIDENTES\", color=\"black\", fontsize=16)\n",
    "#Títulos dos Eixos\n",
    "plt.xlabel(\"ANOS\", fontsize=12)\n",
    "plt.ylabel(\"VALOR EM PORCENTAGEM (%)\", fontsize=14)\n",
    "#Definir escala do eixo X\n",
    "Escala_EixoX = np.arange(2000, 2022, 1) \n",
    "plt.xticks(Escala_EixoX)\n",
    "#Definir escala do eixo Y\n",
    "Escala_EixoY = np.arange(0, 65, 5) \n",
    "plt.yticks(Escala_EixoY)\n",
    "#Exibir gráfico\n",
    "plt.show()"
   ]
  },
  {
   "cell_type": "code",
   "execution_count": 9,
   "id": "aa1edcf7",
   "metadata": {},
   "outputs": [
    {
     "name": "stdout",
     "output_type": "stream",
     "text": [
      "Estatísticas descritivas das quebras/acidentes do GP de Mônaco:\n",
      "\n",
      "count    21.000000\n",
      "mean     29.147619\n",
      "std      14.562576\n",
      "min       5.000000\n",
      "25%      22.700000\n",
      "50%      30.000000\n",
      "75%      36.400000\n",
      "max      54.500000\n",
      "Name: Percentual_Quebras_Acidentes_%, dtype: float64\n"
     ]
    }
   ],
   "source": [
    "#Calcular estatísticas descritivas das quebras e acidentes do GP\n",
    "Estatisticas_Descritivas = df_Quebras_Acidentes[\"Percentual_Quebras_Acidentes_%\"].describe()\n",
    "print(f\"Estatísticas descritivas das quebras/acidentes do GP de Mônaco:\\n\\n{Estatisticas_Descritivas}\")"
   ]
  },
  {
   "cell_type": "markdown",
   "id": "507e66ef",
   "metadata": {},
   "source": [
    "De forma geral nas últimas 21 corridas, observa-se que houve um alto índice de carros que não terminaram o Grande Prêmio de Mônaco. Como mencionado anteriormente, o circuito por ser bem estreito (circuito de rua) além de dificultar as ultrapassagens dos carros, acaba favorecendo para que Quebras e Acidentes* aconteçam."
   ]
  },
  {
   "cell_type": "markdown",
   "id": "5d78a88b",
   "metadata": {},
   "source": [
    "Dentro do período analisado (2000 a 2021), os anos de 2000 e 2001 foram os que tiveram a maior quantidade de carros não finalizando o GP (54,5% para ambos os anos). De 2005 em diante nota-se que os números ficaram mais próximos da média (~29%)."
   ]
  },
  {
   "cell_type": "markdown",
   "id": "66b8f04b",
   "metadata": {},
   "source": [
    "Com o passar dos anos, o circuito vai sofrendo algumas modificações visto que os carros evoluem continuamente (a Fórmula 1 é um berço de inovação, tecnologia e melhoria contínua) e esse processo tende a contribuir para uma diminuição do percentual de carros que não finalizam o GP. Também, já como proposta de evolução desse estudo, pode ser útil aplicar alguma técnica estatística para avaliar se há uma diferença significativa no Percentual (%) de quebras e acidentes entre os anos."
   ]
  },
  {
   "cell_type": "markdown",
   "id": "d5a7aed5",
   "metadata": {},
   "source": [
    "<i>*Quebras e Acidentes -> Qualquer tipo de acidente envolvendo um ou mais carros e/ou problemas elétricos, hidráulicos, de motor, entre outros.</i>"
   ]
  },
  {
   "cell_type": "markdown",
   "id": "65321811",
   "metadata": {},
   "source": [
    "<i>*Em 2020 não houve o GP de Mônaco devido a Pandemia (COVID-19)</i>"
   ]
  },
  {
   "cell_type": "markdown",
   "id": "e258849a",
   "metadata": {},
   "source": [
    "# Tópico 4: Cálculo das probabilidades de vitória no GP de Mônaco"
   ]
  },
  {
   "cell_type": "markdown",
   "id": "71cc17f2",
   "metadata": {},
   "source": [
    "<b><u>PREMISSAS E INFORMAÇÕES GERAIS"
   ]
  },
  {
   "cell_type": "markdown",
   "id": "9e5c7da2",
   "metadata": {},
   "source": [
    "- Para fins de modelagem os dados utilizados consideram o ano de 2005 em diante (A partir de 2005 o % de carros que não completam a prova fica mais próximo da média. Futuramente outras abordagens estatísticas poderiam ser utilizadas para tal determinação).\n",
    "- Os dados dos carros que não completaram a prova por acidente e/ou quebra serão mantidos. Essas situações fazem parte da corrida."
   ]
  },
  {
   "cell_type": "markdown",
   "id": "f05b7d7f",
   "metadata": {},
   "source": [
    "- Variável Explicativa (X): Posições de largada dos carros no grid.\n",
    "- Variável Resposta (Y): <b>1 -></b> Venceu a corrida. <b>0 -></b> Não venceu a corrida."
   ]
  },
  {
   "cell_type": "markdown",
   "id": "2d47cfe6",
   "metadata": {},
   "source": [
    "<b><u>REGRESSÃO LOGÍSTICA"
   ]
  },
  {
   "cell_type": "code",
   "execution_count": 10,
   "id": "5090aefd",
   "metadata": {},
   "outputs": [
    {
     "name": "stdout",
     "output_type": "stream",
     "text": [
      "                 Generalized Linear Model Regression Results                  \n",
      "==============================================================================\n",
      "Dep. Variable:         Venceu_Corrida   No. Observations:                  342\n",
      "Model:                            GLM   Df Residuals:                      340\n",
      "Model Family:                Binomial   Df Model:                            1\n",
      "Link Function:                  Logit   Scale:                          1.0000\n",
      "Method:                          IRLS   Log-Likelihood:                -27.672\n",
      "Date:                Mon, 30 May 2022   Deviance:                       55.344\n",
      "Time:                        16:35:05   Pearson chi2:                     56.3\n",
      "No. Iterations:                    11   Pseudo R-squ. (CS):             0.1943\n",
      "Covariance Type:            nonrobust                                         \n",
      "===================================================================================\n",
      "                      coef    std err          z      P>|z|      [0.025      0.975]\n",
      "-----------------------------------------------------------------------------------\n",
      "Intercept           1.7860      0.736      2.426      0.015       0.343       3.229\n",
      "Posicao_Largada    -1.3724      0.354     -3.873      0.000      -2.067      -0.678\n",
      "===================================================================================\n"
     ]
    }
   ],
   "source": [
    "modelo = smf.glm(formula='Venceu_Corrida ~ Posicao_Largada', data=df_Dados_Modelagem,\n",
    "                family = sm.families.Binomial()).fit()\n",
    "print(modelo.summary())"
   ]
  },
  {
   "cell_type": "markdown",
   "id": "07932ab6",
   "metadata": {},
   "source": [
    "A variável explicativa posição de largada (\"Posicao_Largada\") é estatisticamente significativa para o modelo (p-valor abaixo de 5% adotando 95% de confiança)."
   ]
  },
  {
   "cell_type": "markdown",
   "id": "7b48c5f4",
   "metadata": {},
   "source": [
    "Ao se analisar o coeficiente da variável \"Posicao_Largada\", nota-se que quanto menor a posição de largada (mais próximo das primeiras posições) melhores são as chances de vencer a corrida."
   ]
  },
  {
   "cell_type": "markdown",
   "id": "cec5eca9",
   "metadata": {},
   "source": [
    "<b><u>VALIDAÇÃO DO MODELO"
   ]
  },
  {
   "cell_type": "markdown",
   "id": "7440acec",
   "metadata": {},
   "source": [
    "Para validação do modelo utilizou-se das métricas AUC e ROC."
   ]
  },
  {
   "cell_type": "markdown",
   "id": "5bc0ab32",
   "metadata": {},
   "source": [
    "De forma resumida, a curva ROC (Receiver Operating Characteristic) mostra o quão bom o modelo criado pode distinguir entre duas coisas (Classificação de coisas). Uma curva ROC compara os seguintes parâmetros: Taxa de verdadeiro positivo vs. Taxa de falso positivo."
   ]
  },
  {
   "cell_type": "markdown",
   "id": "9fa803ff",
   "metadata": {},
   "source": [
    "Por sua vez, a AUC (Area under the curve) possibilita resumir a curva ROC através de um valor único. Sua escala varia de 0 a 1, onde quanto mais próximo de 1, melhor o poder de classificação/previsão do modelo. "
   ]
  },
  {
   "cell_type": "code",
   "execution_count": 11,
   "id": "9e26996a",
   "metadata": {},
   "outputs": [
    {
     "name": "stdout",
     "output_type": "stream",
     "text": [
      "Valor AUC = 0.9724\n"
     ]
    }
   ],
   "source": [
    "#Calcular a AUC da curva ROC\n",
    "y = df_Dados_Modelagem[\"Venceu_Corrida\"]\n",
    "X = df_Dados_Modelagem[\"Posicao_Largada\"]\n",
    "yhat = modelo.predict(sm.add_constant(X))\n",
    "\n",
    "print(\"Valor AUC = %0.4f\" % roc_auc_score(y,yhat))"
   ]
  },
  {
   "cell_type": "markdown",
   "id": "2e1176cf",
   "metadata": {},
   "source": [
    "<b><u>PREDIÇÕES"
   ]
  },
  {
   "cell_type": "markdown",
   "id": "19a8d457",
   "metadata": {},
   "source": [
    "O atual grid da Fórmula 1 (2022) é formado por 20 carros/pilotos. Sendo assim, abaixo se tem a Probabilidade de vencer a corrida de Mônaco com base nas respectivas posições de largada:"
   ]
  },
  {
   "cell_type": "code",
   "execution_count": 12,
   "id": "77fcbeb4",
   "metadata": {},
   "outputs": [],
   "source": [
    "#Criando DataFrame com as 20 posições de largada\n",
    "PosicaoLargada = [1,2,3,4,5,6,7,8,9,10,11,12,13,14,15,16,17,18,19,20]\n",
    "df_GridCorrida = pd.DataFrame(PosicaoLargada, columns=[\"Posicao_Largada\"])"
   ]
  },
  {
   "cell_type": "code",
   "execution_count": 13,
   "id": "10973b2a",
   "metadata": {},
   "outputs": [
    {
     "data": {
      "text/html": [
       "<div>\n",
       "<style scoped>\n",
       "    .dataframe tbody tr th:only-of-type {\n",
       "        vertical-align: middle;\n",
       "    }\n",
       "\n",
       "    .dataframe tbody tr th {\n",
       "        vertical-align: top;\n",
       "    }\n",
       "\n",
       "    .dataframe thead th {\n",
       "        text-align: right;\n",
       "    }\n",
       "</style>\n",
       "<table border=\"1\" class=\"dataframe\">\n",
       "  <thead>\n",
       "    <tr style=\"text-align: right;\">\n",
       "      <th></th>\n",
       "      <th>Posicao_Largada</th>\n",
       "      <th>Probabilidade_Vencer_Corrida_[em %]</th>\n",
       "    </tr>\n",
       "  </thead>\n",
       "  <tbody>\n",
       "    <tr>\n",
       "      <th>0</th>\n",
       "      <td>1</td>\n",
       "      <td>60.20</td>\n",
       "    </tr>\n",
       "    <tr>\n",
       "      <th>1</th>\n",
       "      <td>2</td>\n",
       "      <td>27.71</td>\n",
       "    </tr>\n",
       "    <tr>\n",
       "      <th>2</th>\n",
       "      <td>3</td>\n",
       "      <td>8.86</td>\n",
       "    </tr>\n",
       "    <tr>\n",
       "      <th>3</th>\n",
       "      <td>4</td>\n",
       "      <td>2.40</td>\n",
       "    </tr>\n",
       "    <tr>\n",
       "      <th>4</th>\n",
       "      <td>5</td>\n",
       "      <td>0.62</td>\n",
       "    </tr>\n",
       "    <tr>\n",
       "      <th>5</th>\n",
       "      <td>6</td>\n",
       "      <td>0.16</td>\n",
       "    </tr>\n",
       "    <tr>\n",
       "      <th>6</th>\n",
       "      <td>7</td>\n",
       "      <td>0.04</td>\n",
       "    </tr>\n",
       "    <tr>\n",
       "      <th>7</th>\n",
       "      <td>8</td>\n",
       "      <td>0.01</td>\n",
       "    </tr>\n",
       "    <tr>\n",
       "      <th>8</th>\n",
       "      <td>9</td>\n",
       "      <td>0.00</td>\n",
       "    </tr>\n",
       "    <tr>\n",
       "      <th>9</th>\n",
       "      <td>10</td>\n",
       "      <td>0.00</td>\n",
       "    </tr>\n",
       "    <tr>\n",
       "      <th>10</th>\n",
       "      <td>11</td>\n",
       "      <td>0.00</td>\n",
       "    </tr>\n",
       "    <tr>\n",
       "      <th>11</th>\n",
       "      <td>12</td>\n",
       "      <td>0.00</td>\n",
       "    </tr>\n",
       "    <tr>\n",
       "      <th>12</th>\n",
       "      <td>13</td>\n",
       "      <td>0.00</td>\n",
       "    </tr>\n",
       "    <tr>\n",
       "      <th>13</th>\n",
       "      <td>14</td>\n",
       "      <td>0.00</td>\n",
       "    </tr>\n",
       "    <tr>\n",
       "      <th>14</th>\n",
       "      <td>15</td>\n",
       "      <td>0.00</td>\n",
       "    </tr>\n",
       "    <tr>\n",
       "      <th>15</th>\n",
       "      <td>16</td>\n",
       "      <td>0.00</td>\n",
       "    </tr>\n",
       "    <tr>\n",
       "      <th>16</th>\n",
       "      <td>17</td>\n",
       "      <td>0.00</td>\n",
       "    </tr>\n",
       "    <tr>\n",
       "      <th>17</th>\n",
       "      <td>18</td>\n",
       "      <td>0.00</td>\n",
       "    </tr>\n",
       "    <tr>\n",
       "      <th>18</th>\n",
       "      <td>19</td>\n",
       "      <td>0.00</td>\n",
       "    </tr>\n",
       "    <tr>\n",
       "      <th>19</th>\n",
       "      <td>20</td>\n",
       "      <td>0.00</td>\n",
       "    </tr>\n",
       "  </tbody>\n",
       "</table>\n",
       "</div>"
      ],
      "text/plain": [
       "    Posicao_Largada  Probabilidade_Vencer_Corrida_[em %]\n",
       "0                 1                                60.20\n",
       "1                 2                                27.71\n",
       "2                 3                                 8.86\n",
       "3                 4                                 2.40\n",
       "4                 5                                 0.62\n",
       "5                 6                                 0.16\n",
       "6                 7                                 0.04\n",
       "7                 8                                 0.01\n",
       "8                 9                                 0.00\n",
       "9                10                                 0.00\n",
       "10               11                                 0.00\n",
       "11               12                                 0.00\n",
       "12               13                                 0.00\n",
       "13               14                                 0.00\n",
       "14               15                                 0.00\n",
       "15               16                                 0.00\n",
       "16               17                                 0.00\n",
       "17               18                                 0.00\n",
       "18               19                                 0.00\n",
       "19               20                                 0.00"
      ]
     },
     "execution_count": 13,
     "metadata": {},
     "output_type": "execute_result"
    }
   ],
   "source": [
    "#Calculando as probabilidades\n",
    "ProbabilidadeVencer = modelo.predict(df_GridCorrida)\n",
    "#Adicionando as probabilidades de vitória no DataFrame\n",
    "df_GridCorrida[\"Probabilidade_Vencer_Corrida_[em %]\"] = ProbabilidadeVencer\n",
    "#Ajustes\n",
    "df_GridCorrida[\"Probabilidade_Vencer_Corrida_[em %]\"] = df_GridCorrida[\"Probabilidade_Vencer_Corrida_[em %]\"].round(4)*100\n",
    "#Exibir resultados\n",
    "df_GridCorrida"
   ]
  },
  {
   "cell_type": "markdown",
   "id": "2d0a7430",
   "metadata": {},
   "source": [
    "Nota-se que as probabilidades de vitória no GP de Mônaco estão concentradas nos carros/pilotos que largam dentro das 3 primeiras posições do grid. Muito disso está relacionado as condições e características do circuito. Como citado algumas vezes anteriormente, o GP de Mônaco é um circuito de rua e bem estreito, onde as ultrapassagens são raras."
   ]
  },
  {
   "cell_type": "code",
   "execution_count": 14,
   "id": "f8655342",
   "metadata": {},
   "outputs": [
    {
     "name": "stdout",
     "output_type": "stream",
     "text": [
      "Os carros que largam nas 3 primeiras posições concentram 96.77 % das probabilidades de vitória.\n"
     ]
    }
   ],
   "source": [
    "Probabilidade_3Primeiros = df_GridCorrida[\"Probabilidade_Vencer_Corrida_[em %]\"].values[0:3].sum()\n",
    "print(f\"Os carros que largam nas 3 primeiras posições concentram {Probabilidade_3Primeiros} % das probabilidades de vitória.\")"
   ]
  },
  {
   "cell_type": "markdown",
   "id": "92bd68af",
   "metadata": {},
   "source": [
    "Tais estatísticas reforçam a importância da etapa de Qualificação* que antecede a corrida. Nesse circuito, largar entre as primeiras posições é crucial para vencer a corrida!"
   ]
  },
  {
   "cell_type": "markdown",
   "id": "9fdfccfe",
   "metadata": {},
   "source": [
    "<i>*Qualificação -> Etapa que define a posição de largada de cada carro/piloto. Larga em 1º quem fizer uma volta mais rápida e assim sucessivamente, sendo o último quem fizer a volta mais lenta.</i>"
   ]
  },
  {
   "cell_type": "markdown",
   "id": "f3c288a0",
   "metadata": {},
   "source": [
    "No último domingo (29/05/2022) ocorreu o Grande Prêmio de Mônaco dessa temporada. O grid de largada pode ser conferido no seguinte endereço: https://www.statsf1.com/pt/2022/monaco/qualification.aspx."
   ]
  },
  {
   "cell_type": "markdown",
   "id": "effe86f4",
   "metadata": {},
   "source": [
    "3 primeiras posições do grid de largada - GP Mônaco 2022:\n",
    "- 1º Piloto: Charles LECLERC - Equipe: Ferrari\n",
    "- 2º Piloto: Carlos SAINZ - Equipe: Ferrari\n",
    "- 3º Piloto: Sergio PEREZ - Equipe: Red Bull Racing"
   ]
  },
  {
   "cell_type": "markdown",
   "id": "b23a6080",
   "metadata": {},
   "source": [
    "E conforme previsto pelo modelo de regressão logística desse estudo, mais um ano em que o vencedor largou entre os 3 primeiros do grid. O GP de Mônaco 2022 foi vencido pelo Piloto Sergio Perez da equipe Red Bull Racing (Largou na 3ª Posição do grid)."
   ]
  },
  {
   "cell_type": "markdown",
   "id": "cc78e5e2",
   "metadata": {},
   "source": [
    "Assim terminou o GP Mônaco 2022: https://www.statsf1.com/pt/2022/monaco/classement.aspx."
   ]
  }
 ],
 "metadata": {
  "kernelspec": {
   "display_name": "py10",
   "language": "python",
   "name": "py10"
  },
  "language_info": {
   "codemirror_mode": {
    "name": "ipython",
    "version": 3
   },
   "file_extension": ".py",
   "mimetype": "text/x-python",
   "name": "python",
   "nbconvert_exporter": "python",
   "pygments_lexer": "ipython3",
   "version": "3.10.0"
  }
 },
 "nbformat": 4,
 "nbformat_minor": 5
}
